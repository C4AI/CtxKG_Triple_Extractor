{
 "cells": [
  {
   "cell_type": "code",
   "execution_count": null,
   "id": "5e1cb54b-afb2-4932-9f0e-031281509a25",
   "metadata": {},
   "outputs": [],
   "source": [
    "import tensorflow as tf\n",
    "import yaml\n",
    "from yaml import CLoader as Loader, CDumper as Dumper\n",
    "from transformers import logging\n",
    "logging.set_verbosity_error()"
   ]
  },
  {
   "cell_type": "code",
   "execution_count": null,
   "id": "7c64552f-5630-40f6-aa84-935205390ffd",
   "metadata": {},
   "outputs": [],
   "source": [
    "from predicate_extraction import build_model\n",
    "from predicate_extraction.data_formatter import format_sentences, format_input, format_output, print_annotated_sentence\n",
    "from predicate_extraction.constants import PREDICATE_PREDICTION_DIR"
   ]
  },
  {
   "cell_type": "code",
   "execution_count": null,
   "id": "35d73dbb-c20e-4f11-b229-fbbc7b6304ac",
   "metadata": {},
   "outputs": [],
   "source": [
    "with (PREDICATE_PREDICTION_DIR / \"training_data.yml\").open(encoding=\"utf-8\") as f:\n",
    "    training_sentences = yaml.load(f, Loader)"
   ]
  },
  {
   "cell_type": "code",
   "execution_count": null,
   "id": "d44c5790-7249-4112-8340-7e18fac12d87",
   "metadata": {},
   "outputs": [],
   "source": [
    "training_data = format_sentences(training_sentences)"
   ]
  },
  {
   "cell_type": "code",
   "execution_count": null,
   "id": "377e8dd5-f81c-4895-8581-4793188b4a50",
   "metadata": {},
   "outputs": [],
   "source": [
    "training_X = tf.constant([sentence_data[\"token_ids\"] for sentence_data in training_data])\n",
    "training_Y = tf.stack([sentence_data[\"encoded_output_tags\"] for sentence_data in training_data])"
   ]
  },
  {
   "cell_type": "code",
   "execution_count": null,
   "id": "8051b022-b57f-4f84-83b4-11a5092adb77",
   "metadata": {},
   "outputs": [],
   "source": [
    "model = build_model()\n",
    "model.summary()"
   ]
  },
  {
   "cell_type": "code",
   "execution_count": null,
   "id": "e6a080fd-c539-4b65-a885-fd6aef4e40ad",
   "metadata": {},
   "outputs": [],
   "source": [
    "history = model.fit(training_X, training_Y, batch_size=64, epochs=2)"
   ]
  },
  {
   "cell_type": "code",
   "execution_count": null,
   "id": "f689890d-b884-430f-b397-dd8b2a742cd3",
   "metadata": {},
   "outputs": [],
   "source": [
    "sentence = \"Ele é um carro\"\n",
    "sentence_input = format_input(sentence)\n",
    "output = model.predict([sentence_input])\n",
    "output"
   ]
  },
  {
   "cell_type": "code",
   "execution_count": null,
   "id": "e7e851e7-1ccb-4e4d-9591-9d773ee659c4",
   "metadata": {},
   "outputs": [],
   "source": [
    "tags = format_output(val[0])\n",
    "tags"
   ]
  },
  {
   "cell_type": "code",
   "execution_count": null,
   "id": "55f0a4dd-876c-422b-940b-67c6ccd402f2",
   "metadata": {},
   "outputs": [],
   "source": [
    "print(print_annotated_sentence(sentence, tags))"
   ]
  }
 ],
 "metadata": {
  "kernelspec": {
   "display_name": "Python 3 (ipykernel)",
   "language": "python",
   "name": "python3"
  },
  "language_info": {
   "codemirror_mode": {
    "name": "ipython",
    "version": 3
   },
   "file_extension": ".py",
   "mimetype": "text/x-python",
   "name": "python",
   "nbconvert_exporter": "python",
   "pygments_lexer": "ipython3",
   "version": "3.9.6"
  }
 },
 "nbformat": 4,
 "nbformat_minor": 5
}
