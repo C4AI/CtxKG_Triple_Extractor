{
 "cells": [
  {
   "cell_type": "code",
   "execution_count": null,
   "id": "5e1cb54b-afb2-4932-9f0e-031281509a25",
   "metadata": {},
   "outputs": [],
   "source": [
    "import tensorflow as tf\n",
    "import yaml\n",
    "from yaml import CLoader as Loader, CDumper as Dumper\n",
    "from transformers import logging\n",
    "logging.set_verbosity_error()"
   ]
  },
  {
   "cell_type": "code",
   "execution_count": null,
   "id": "7c64552f-5630-40f6-aa84-935205390ffd",
   "metadata": {},
   "outputs": [],
   "source": [
    "from predicate_extraction import build_model\n",
    "from predicate_extraction.data_formatter import format_inputs, format_outputs, format_training_data, print_annotated_sentences\n",
    "from predicate_extraction.constants import PREDICATE_PREDICTION_DIR"
   ]
  },
  {
   "cell_type": "code",
   "execution_count": null,
   "id": "35d73dbb-c20e-4f11-b229-fbbc7b6304ac",
   "metadata": {},
   "outputs": [],
   "source": [
    "with (PREDICATE_PREDICTION_DIR / \"training_data.yml\").open(encoding=\"utf-8\") as f:\n",
    "    training_sentences = yaml.load(f, Loader)"
   ]
  },
  {
   "cell_type": "code",
   "execution_count": null,
   "id": "d44c5790-7249-4112-8340-7e18fac12d87",
   "metadata": {},
   "outputs": [],
   "source": [
    "training_X, training_Y = format_training_data(training_sentences)"
   ]
  },
  {
   "cell_type": "code",
   "execution_count": null,
   "id": "8051b022-b57f-4f84-83b4-11a5092adb77",
   "metadata": {},
   "outputs": [],
   "source": [
    "model = build_model()\n",
    "model.summary()"
   ]
  },
  {
   "cell_type": "code",
   "execution_count": null,
   "id": "e6a080fd-c539-4b65-a885-fd6aef4e40ad",
   "metadata": {},
   "outputs": [],
   "source": [
    "history = model.fit(training_X, training_Y, batch_size=64, epochs=2)"
   ]
  },
  {
   "cell_type": "code",
   "execution_count": null,
   "id": "f689890d-b884-430f-b397-dd8b2a742cd3",
   "metadata": {},
   "outputs": [],
   "source": [
    "sentences = [\"Ele é um carro\", \"Eu sou presidente\"]\n",
    "inputs = format_inputs(sentences)\n",
    "outputs = model.predict(inputs)\n",
    "print_annotated_sentences(sentences, outputs)"
   ]
  }
 ],
 "metadata": {
  "kernelspec": {
   "display_name": "Python 3 (ipykernel)",
   "language": "python",
   "name": "python3"
  },
  "language_info": {
   "codemirror_mode": {
    "name": "ipython",
    "version": 3
   },
   "file_extension": ".py",
   "mimetype": "text/x-python",
   "name": "python",
   "nbconvert_exporter": "python",
   "pygments_lexer": "ipython3",
   "version": "3.9.6"
  }
 },
 "nbformat": 4,
 "nbformat_minor": 5
}
