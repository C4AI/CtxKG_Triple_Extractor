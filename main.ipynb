{
 "cells": [
  {
   "cell_type": "code",
   "execution_count": 33,
   "id": "bb43ea8b-9316-48dc-a69f-d7042b7b6f75",
   "metadata": {},
   "outputs": [
    {
     "name": "stdout",
     "output_type": "stream",
     "text": [
      "The autoreload extension is already loaded. To reload it, use:\n",
      "  %reload_ext autoreload\n"
     ]
    }
   ],
   "source": [
    "%load_ext autoreload\n",
    "%autoreload 1\n",
    "%aimport predicate_extraction"
   ]
  },
  {
   "cell_type": "code",
   "execution_count": 26,
   "id": "5e1cb54b-afb2-4932-9f0e-031281509a25",
   "metadata": {},
   "outputs": [],
   "source": [
    "import tensorflow as tf\n",
    "import yaml\n",
    "from yaml import CLoader as Loader, CDumper as Dumper"
   ]
  },
  {
   "cell_type": "code",
   "execution_count": 27,
   "id": "7c64552f-5630-40f6-aa84-935205390ffd",
   "metadata": {},
   "outputs": [],
   "source": [
    "from predicate_extraction import build_model\n",
    "from predicate_extraction.data_formatter import format_data\n",
    "from predicate_extraction.constants import PREDICATE_PREDICTION_DIR"
   ]
  },
  {
   "cell_type": "code",
   "execution_count": 28,
   "id": "35d73dbb-c20e-4f11-b229-fbbc7b6304ac",
   "metadata": {},
   "outputs": [],
   "source": [
    "with (PREDICATE_PREDICTION_DIR / \"training_data.yml\").open(encoding=\"utf-8\") as f:\n",
    "    training_sentences = yaml.load(f, Loader)"
   ]
  },
  {
   "cell_type": "code",
   "execution_count": 29,
   "id": "d44c5790-7249-4112-8340-7e18fac12d87",
   "metadata": {},
   "outputs": [],
   "source": [
    "training_data = format_data(training_sentences)"
   ]
  },
  {
   "cell_type": "code",
   "execution_count": 31,
   "id": "377e8dd5-f81c-4895-8581-4793188b4a50",
   "metadata": {},
   "outputs": [],
   "source": [
    "training_X = tf.constant([sentence_data[\"token_ids\"] for sentence_data in training_data])\n",
    "training_Y = tf.stack([sentence_data[\"encoded_output_tags\"] for sentence_data in training_data])"
   ]
  },
  {
   "cell_type": "code",
   "execution_count": 32,
   "id": "8051b022-b57f-4f84-83b4-11a5092adb77",
   "metadata": {},
   "outputs": [
    {
     "name": "stderr",
     "output_type": "stream",
     "text": [
      "Some layers from the model checkpoint at neuralmind/bert-base-portuguese-cased were not used when initializing TFBertModel: ['mlm___cls']\n",
      "- This IS expected if you are initializing TFBertModel from the checkpoint of a model trained on another task or with another architecture (e.g. initializing a BertForSequenceClassification model from a BertForPreTraining model).\n",
      "- This IS NOT expected if you are initializing TFBertModel from the checkpoint of a model that you expect to be exactly identical (initializing a BertForSequenceClassification model from a BertForSequenceClassification model).\n",
      "Some layers of TFBertModel were not initialized from the model checkpoint at neuralmind/bert-base-portuguese-cased and are newly initialized: ['bert/pooler/dense/kernel:0', 'bert/pooler/dense/bias:0']\n",
      "You should probably TRAIN this model on a down-stream task to be able to use it for predictions and inference.\n"
     ]
    }
   ],
   "source": [
    "model = build_model()"
   ]
  }
 ],
 "metadata": {
  "kernelspec": {
   "display_name": "Python 3 (ipykernel)",
   "language": "python",
   "name": "python3"
  },
  "language_info": {
   "codemirror_mode": {
    "name": "ipython",
    "version": 3
   },
   "file_extension": ".py",
   "mimetype": "text/x-python",
   "name": "python",
   "nbconvert_exporter": "python",
   "pygments_lexer": "ipython3",
   "version": "3.9.6"
  }
 },
 "nbformat": 4,
 "nbformat_minor": 5
}
