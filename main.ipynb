{
 "cells": [
  {
   "cell_type": "code",
   "execution_count": null,
   "id": "5e1cb54b-afb2-4932-9f0e-031281509a25",
   "metadata": {},
   "outputs": [],
   "source": [
    "import tensorflow as tf\n",
    "import yaml\n",
    "from yaml import CLoader as Loader, CDumper as Dumper\n",
    "from transformers import logging\n",
    "logging.set_verbosity_error()"
   ]
  },
  {
   "cell_type": "code",
   "execution_count": null,
   "id": "7c64552f-5630-40f6-aa84-935205390ffd",
   "metadata": {},
   "outputs": [],
   "source": [
    "from predicate_extraction import PredicateExtractor, PREDICATE_PREDICTION_DIR"
   ]
  },
  {
   "cell_type": "code",
   "execution_count": null,
   "id": "35d73dbb-c20e-4f11-b229-fbbc7b6304ac",
   "metadata": {},
   "outputs": [],
   "source": [
    "with (PREDICATE_PREDICTION_DIR / \"training_data.yml\").open(encoding=\"utf-8\") as f:\n",
    "    training_sentences = yaml.load(f, Loader)"
   ]
  },
  {
   "cell_type": "code",
   "execution_count": null,
   "id": "8051b022-b57f-4f84-83b4-11a5092adb77",
   "metadata": {},
   "outputs": [],
   "source": [
    "model = PredicateExtractor(10, 5)\n",
    "model.compile()\n",
    "model.summary()"
   ]
  },
  {
   "cell_type": "code",
   "execution_count": null,
   "id": "e6a080fd-c539-4b65-a885-fd6aef4e40ad",
   "metadata": {},
   "outputs": [],
   "source": [
    "history = model.fit(training_sentences, batch_size=64, epochs=3, verbose=3)"
   ]
  },
  {
   "cell_type": "code",
   "execution_count": null,
   "id": "f689890d-b884-430f-b397-dd8b2a742cd3",
   "metadata": {},
   "outputs": [],
   "source": [
    "model.predict([\"Eu gosto de carros\"])"
   ]
  }
 ],
 "metadata": {
  "kernelspec": {
   "display_name": "Python 3 (ipykernel)",
   "language": "python",
   "name": "python3"
  },
  "language_info": {
   "codemirror_mode": {
    "name": "ipython",
    "version": 3
   },
   "file_extension": ".py",
   "mimetype": "text/x-python",
   "name": "python",
   "nbconvert_exporter": "python",
   "pygments_lexer": "ipython3",
   "version": "3.9.6"
  }
 },
 "nbformat": 4,
 "nbformat_minor": 5
}
